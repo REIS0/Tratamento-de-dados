{
 "cells": [
  {
   "cell_type": "markdown",
   "metadata": {},
   "source": [
    "# Notebook\n",
    "\n",
    "Importando as libs"
   ]
  },
  {
   "cell_type": "code",
   "execution_count": 32,
   "metadata": {},
   "outputs": [],
   "source": [
    "import numpy as np\n",
    "import pandas as pd\n",
    "import seaborn as sns\n",
    "import matplotlib.pyplot as plt"
   ]
  },
  {
   "cell_type": "markdown",
   "metadata": {},
   "source": [
    "Carrega o csv para o dataframe"
   ]
  },
  {
   "cell_type": "code",
   "execution_count": 46,
   "metadata": {},
   "outputs": [
    {
     "data": {
      "text/html": "<div>\n<style scoped>\n    .dataframe tbody tr th:only-of-type {\n        vertical-align: middle;\n    }\n\n    .dataframe tbody tr th {\n        vertical-align: top;\n    }\n\n    .dataframe thead th {\n        text-align: right;\n    }\n</style>\n<table border=\"1\" class=\"dataframe\">\n  <thead>\n    <tr style=\"text-align: right;\">\n      <th></th>\n      <th>PassengerId</th>\n      <th>Survived</th>\n      <th>Pclass</th>\n      <th>Name</th>\n      <th>Sex</th>\n      <th>Age</th>\n      <th>SibSp</th>\n      <th>Parch</th>\n      <th>Ticket</th>\n      <th>Fare</th>\n      <th>...</th>\n      <th>Embarked</th>\n      <th>WikiId</th>\n      <th>Name_wiki</th>\n      <th>Age_wiki</th>\n      <th>Hometown</th>\n      <th>Boarded</th>\n      <th>Destination</th>\n      <th>Lifeboat</th>\n      <th>Body</th>\n      <th>Class</th>\n    </tr>\n  </thead>\n  <tbody>\n    <tr>\n      <th>0</th>\n      <td>1</td>\n      <td>0.0</td>\n      <td>3</td>\n      <td>Braund, Mr. Owen Harris</td>\n      <td>male</td>\n      <td>22.0</td>\n      <td>1</td>\n      <td>0</td>\n      <td>A/5 21171</td>\n      <td>7.2500</td>\n      <td>...</td>\n      <td>S</td>\n      <td>691.0</td>\n      <td>Braund, Mr. Owen Harris</td>\n      <td>22.0</td>\n      <td>Bridgerule, Devon, England</td>\n      <td>Southampton</td>\n      <td>Qu'Appelle Valley, Saskatchewan, Canada</td>\n      <td>NaN</td>\n      <td>NaN</td>\n      <td>3.0</td>\n    </tr>\n    <tr>\n      <th>1</th>\n      <td>2</td>\n      <td>1.0</td>\n      <td>1</td>\n      <td>Cumings, Mrs. John Bradley (Florence Briggs Th...</td>\n      <td>female</td>\n      <td>38.0</td>\n      <td>1</td>\n      <td>0</td>\n      <td>PC 17599</td>\n      <td>71.2833</td>\n      <td>...</td>\n      <td>C</td>\n      <td>90.0</td>\n      <td>Cumings, Mrs. Florence Briggs (née Thayer)</td>\n      <td>35.0</td>\n      <td>New York, New York, US</td>\n      <td>Cherbourg</td>\n      <td>New York, New York, US</td>\n      <td>4</td>\n      <td>NaN</td>\n      <td>1.0</td>\n    </tr>\n    <tr>\n      <th>2</th>\n      <td>3</td>\n      <td>1.0</td>\n      <td>3</td>\n      <td>Heikkinen, Miss. Laina</td>\n      <td>female</td>\n      <td>26.0</td>\n      <td>0</td>\n      <td>0</td>\n      <td>STON/O2. 3101282</td>\n      <td>7.9250</td>\n      <td>...</td>\n      <td>S</td>\n      <td>865.0</td>\n      <td>Heikkinen, Miss Laina</td>\n      <td>26.0</td>\n      <td>Jyväskylä, Finland</td>\n      <td>Southampton</td>\n      <td>New York City</td>\n      <td>14?</td>\n      <td>NaN</td>\n      <td>3.0</td>\n    </tr>\n    <tr>\n      <th>3</th>\n      <td>4</td>\n      <td>1.0</td>\n      <td>1</td>\n      <td>Futrelle, Mrs. Jacques Heath (Lily May Peel)</td>\n      <td>female</td>\n      <td>35.0</td>\n      <td>1</td>\n      <td>0</td>\n      <td>113803</td>\n      <td>53.1000</td>\n      <td>...</td>\n      <td>S</td>\n      <td>127.0</td>\n      <td>Futrelle, Mrs. Lily May (née Peel)</td>\n      <td>35.0</td>\n      <td>Scituate, Massachusetts, US</td>\n      <td>Southampton</td>\n      <td>Scituate, Massachusetts, US</td>\n      <td>D</td>\n      <td>NaN</td>\n      <td>1.0</td>\n    </tr>\n    <tr>\n      <th>4</th>\n      <td>5</td>\n      <td>0.0</td>\n      <td>3</td>\n      <td>Allen, Mr. William Henry</td>\n      <td>male</td>\n      <td>35.0</td>\n      <td>0</td>\n      <td>0</td>\n      <td>373450</td>\n      <td>8.0500</td>\n      <td>...</td>\n      <td>S</td>\n      <td>627.0</td>\n      <td>Allen, Mr. William Henry</td>\n      <td>35.0</td>\n      <td>Birmingham, West Midlands, England</td>\n      <td>Southampton</td>\n      <td>New York City</td>\n      <td>NaN</td>\n      <td>NaN</td>\n      <td>3.0</td>\n    </tr>\n    <tr>\n      <th>...</th>\n      <td>...</td>\n      <td>...</td>\n      <td>...</td>\n      <td>...</td>\n      <td>...</td>\n      <td>...</td>\n      <td>...</td>\n      <td>...</td>\n      <td>...</td>\n      <td>...</td>\n      <td>...</td>\n      <td>...</td>\n      <td>...</td>\n      <td>...</td>\n      <td>...</td>\n      <td>...</td>\n      <td>...</td>\n      <td>...</td>\n      <td>...</td>\n      <td>...</td>\n      <td>...</td>\n    </tr>\n    <tr>\n      <th>1304</th>\n      <td>1305</td>\n      <td>NaN</td>\n      <td>3</td>\n      <td>Spector, Mr. Woolf</td>\n      <td>male</td>\n      <td>NaN</td>\n      <td>0</td>\n      <td>0</td>\n      <td>A.5. 3236</td>\n      <td>8.0500</td>\n      <td>...</td>\n      <td>S</td>\n      <td>1227.0</td>\n      <td>Spector, Mr. Woolf</td>\n      <td>23.0</td>\n      <td>London, England</td>\n      <td>Southampton</td>\n      <td>New York City</td>\n      <td>NaN</td>\n      <td>NaN</td>\n      <td>3.0</td>\n    </tr>\n    <tr>\n      <th>1305</th>\n      <td>1306</td>\n      <td>NaN</td>\n      <td>1</td>\n      <td>Oliva y Ocana, Dona. Fermina</td>\n      <td>female</td>\n      <td>39.0</td>\n      <td>0</td>\n      <td>0</td>\n      <td>PC 17758</td>\n      <td>108.9000</td>\n      <td>...</td>\n      <td>C</td>\n      <td>229.0</td>\n      <td>and maid, Doña Fermina Oliva y Ocana</td>\n      <td>39.0</td>\n      <td>Madrid, Spain</td>\n      <td>Cherbourg</td>\n      <td>New York, New York, US</td>\n      <td>8</td>\n      <td>NaN</td>\n      <td>1.0</td>\n    </tr>\n    <tr>\n      <th>1306</th>\n      <td>1307</td>\n      <td>NaN</td>\n      <td>3</td>\n      <td>Saether, Mr. Simon Sivertsen</td>\n      <td>male</td>\n      <td>38.5</td>\n      <td>0</td>\n      <td>0</td>\n      <td>SOTON/O.Q. 3101262</td>\n      <td>7.2500</td>\n      <td>...</td>\n      <td>S</td>\n      <td>1169.0</td>\n      <td>Sæther, Mr. Simon Sivertsen</td>\n      <td>43.0</td>\n      <td>Skaun, Sør-Trøndelag, Norway</td>\n      <td>Southampton</td>\n      <td>US</td>\n      <td>NaN</td>\n      <td>32MB</td>\n      <td>3.0</td>\n    </tr>\n    <tr>\n      <th>1307</th>\n      <td>1308</td>\n      <td>NaN</td>\n      <td>3</td>\n      <td>Ware, Mr. Frederick</td>\n      <td>male</td>\n      <td>NaN</td>\n      <td>0</td>\n      <td>0</td>\n      <td>359309</td>\n      <td>8.0500</td>\n      <td>...</td>\n      <td>S</td>\n      <td>1289.0</td>\n      <td>Ware, Mr. Frederick William</td>\n      <td>34.0</td>\n      <td>Greenwich, London, England</td>\n      <td>Southampton</td>\n      <td>New York City</td>\n      <td>NaN</td>\n      <td>NaN</td>\n      <td>3.0</td>\n    </tr>\n    <tr>\n      <th>1308</th>\n      <td>1309</td>\n      <td>NaN</td>\n      <td>3</td>\n      <td>Peter, Master. Michael J</td>\n      <td>male</td>\n      <td>NaN</td>\n      <td>1</td>\n      <td>1</td>\n      <td>2668</td>\n      <td>22.3583</td>\n      <td>...</td>\n      <td>C</td>\n      <td>702.0</td>\n      <td>Butrus-Youssef, Master Makhkhul</td>\n      <td>4.0</td>\n      <td>Sar'al[81], Syria</td>\n      <td>Cherbourg</td>\n      <td>Detroit, Michigan, US</td>\n      <td>D</td>\n      <td>NaN</td>\n      <td>3.0</td>\n    </tr>\n  </tbody>\n</table>\n<p>1309 rows × 21 columns</p>\n</div>",
      "text/plain": "      PassengerId  Survived  Pclass  \\\n0               1       0.0       3   \n1               2       1.0       1   \n2               3       1.0       3   \n3               4       1.0       1   \n4               5       0.0       3   \n...           ...       ...     ...   \n1304         1305       NaN       3   \n1305         1306       NaN       1   \n1306         1307       NaN       3   \n1307         1308       NaN       3   \n1308         1309       NaN       3   \n\n                                                   Name     Sex   Age  SibSp  \\\n0                               Braund, Mr. Owen Harris    male  22.0      1   \n1     Cumings, Mrs. John Bradley (Florence Briggs Th...  female  38.0      1   \n2                                Heikkinen, Miss. Laina  female  26.0      0   \n3          Futrelle, Mrs. Jacques Heath (Lily May Peel)  female  35.0      1   \n4                              Allen, Mr. William Henry    male  35.0      0   \n...                                                 ...     ...   ...    ...   \n1304                                 Spector, Mr. Woolf    male   NaN      0   \n1305                       Oliva y Ocana, Dona. Fermina  female  39.0      0   \n1306                       Saether, Mr. Simon Sivertsen    male  38.5      0   \n1307                                Ware, Mr. Frederick    male   NaN      0   \n1308                           Peter, Master. Michael J    male   NaN      1   \n\n      Parch              Ticket      Fare  ... Embarked  WikiId  \\\n0         0           A/5 21171    7.2500  ...        S   691.0   \n1         0            PC 17599   71.2833  ...        C    90.0   \n2         0    STON/O2. 3101282    7.9250  ...        S   865.0   \n3         0              113803   53.1000  ...        S   127.0   \n4         0              373450    8.0500  ...        S   627.0   \n...     ...                 ...       ...  ...      ...     ...   \n1304      0           A.5. 3236    8.0500  ...        S  1227.0   \n1305      0            PC 17758  108.9000  ...        C   229.0   \n1306      0  SOTON/O.Q. 3101262    7.2500  ...        S  1169.0   \n1307      0              359309    8.0500  ...        S  1289.0   \n1308      1                2668   22.3583  ...        C   702.0   \n\n                                       Name_wiki Age_wiki  \\\n0                        Braund, Mr. Owen Harris     22.0   \n1     Cumings, Mrs. Florence Briggs (née Thayer)     35.0   \n2                          Heikkinen, Miss Laina     26.0   \n3             Futrelle, Mrs. Lily May (née Peel)     35.0   \n4                       Allen, Mr. William Henry     35.0   \n...                                          ...      ...   \n1304                          Spector, Mr. Woolf     23.0   \n1305        and maid, Doña Fermina Oliva y Ocana     39.0   \n1306                 Sæther, Mr. Simon Sivertsen     43.0   \n1307                 Ware, Mr. Frederick William     34.0   \n1308             Butrus-Youssef, Master Makhkhul      4.0   \n\n                                Hometown      Boarded  \\\n0             Bridgerule, Devon, England  Southampton   \n1                 New York, New York, US    Cherbourg   \n2                     Jyväskylä, Finland  Southampton   \n3            Scituate, Massachusetts, US  Southampton   \n4     Birmingham, West Midlands, England  Southampton   \n...                                  ...          ...   \n1304                     London, England  Southampton   \n1305                       Madrid, Spain    Cherbourg   \n1306        Skaun, Sør-Trøndelag, Norway  Southampton   \n1307          Greenwich, London, England  Southampton   \n1308                   Sar'al[81], Syria    Cherbourg   \n\n                                  Destination Lifeboat  Body Class  \n0     Qu'Appelle Valley, Saskatchewan, Canada      NaN   NaN   3.0  \n1                      New York, New York, US        4   NaN   1.0  \n2                               New York City      14?   NaN   3.0  \n3                 Scituate, Massachusetts, US        D   NaN   1.0  \n4                               New York City      NaN   NaN   3.0  \n...                                       ...      ...   ...   ...  \n1304                            New York City      NaN   NaN   3.0  \n1305                   New York, New York, US        8   NaN   1.0  \n1306                                       US      NaN  32MB   3.0  \n1307                            New York City      NaN   NaN   3.0  \n1308                    Detroit, Michigan, US        D   NaN   3.0  \n\n[1309 rows x 21 columns]"
     },
     "execution_count": 46,
     "metadata": {},
     "output_type": "execute_result"
    }
   ],
   "source": [
    "df = pd.read_csv('full.csv')\n",
    "df"
   ]
  },
  {
   "cell_type": "code",
   "execution_count": 18,
   "metadata": {},
   "outputs": [
    {
     "data": {
      "text/html": "<div>\n<style scoped>\n    .dataframe tbody tr th:only-of-type {\n        vertical-align: middle;\n    }\n\n    .dataframe tbody tr th {\n        vertical-align: top;\n    }\n\n    .dataframe thead th {\n        text-align: right;\n    }\n</style>\n<table border=\"1\" class=\"dataframe\">\n  <thead>\n    <tr style=\"text-align: right;\">\n      <th></th>\n      <th>PassengerId</th>\n      <th>Survived</th>\n      <th>Pclass</th>\n      <th>Name</th>\n      <th>Sex</th>\n      <th>Age</th>\n      <th>SibSp</th>\n      <th>Parch</th>\n      <th>Ticket</th>\n      <th>Fare</th>\n      <th>...</th>\n      <th>Embarked</th>\n      <th>WikiId</th>\n      <th>Name_wiki</th>\n      <th>Age_wiki</th>\n      <th>Hometown</th>\n      <th>Boarded</th>\n      <th>Destination</th>\n      <th>Lifeboat</th>\n      <th>Body</th>\n      <th>Class</th>\n    </tr>\n  </thead>\n  <tbody>\n    <tr>\n      <th>0</th>\n      <td>1</td>\n      <td>0.0</td>\n      <td>3</td>\n      <td>Braund, Mr. Owen Harris</td>\n      <td>male</td>\n      <td>22.0</td>\n      <td>1</td>\n      <td>0</td>\n      <td>A/5 21171</td>\n      <td>7.2500</td>\n      <td>...</td>\n      <td>S</td>\n      <td>691.0</td>\n      <td>Braund, Mr. Owen Harris</td>\n      <td>22.0</td>\n      <td>Bridgerule, Devon, England</td>\n      <td>Southampton</td>\n      <td>Qu'Appelle Valley, Saskatchewan, Canada</td>\n      <td>NaN</td>\n      <td>NaN</td>\n      <td>3.0</td>\n    </tr>\n    <tr>\n      <th>1</th>\n      <td>2</td>\n      <td>1.0</td>\n      <td>1</td>\n      <td>Cumings, Mrs. John Bradley (Florence Briggs Th...</td>\n      <td>female</td>\n      <td>38.0</td>\n      <td>1</td>\n      <td>0</td>\n      <td>PC 17599</td>\n      <td>71.2833</td>\n      <td>...</td>\n      <td>C</td>\n      <td>90.0</td>\n      <td>Cumings, Mrs. Florence Briggs (née Thayer)</td>\n      <td>35.0</td>\n      <td>New York, New York, US</td>\n      <td>Cherbourg</td>\n      <td>New York, New York, US</td>\n      <td>4</td>\n      <td>NaN</td>\n      <td>1.0</td>\n    </tr>\n    <tr>\n      <th>2</th>\n      <td>3</td>\n      <td>1.0</td>\n      <td>3</td>\n      <td>Heikkinen, Miss. Laina</td>\n      <td>female</td>\n      <td>26.0</td>\n      <td>0</td>\n      <td>0</td>\n      <td>STON/O2. 3101282</td>\n      <td>7.9250</td>\n      <td>...</td>\n      <td>S</td>\n      <td>865.0</td>\n      <td>Heikkinen, Miss Laina</td>\n      <td>26.0</td>\n      <td>Jyväskylä, Finland</td>\n      <td>Southampton</td>\n      <td>New York City</td>\n      <td>14?</td>\n      <td>NaN</td>\n      <td>3.0</td>\n    </tr>\n    <tr>\n      <th>3</th>\n      <td>4</td>\n      <td>1.0</td>\n      <td>1</td>\n      <td>Futrelle, Mrs. Jacques Heath (Lily May Peel)</td>\n      <td>female</td>\n      <td>35.0</td>\n      <td>1</td>\n      <td>0</td>\n      <td>113803</td>\n      <td>53.1000</td>\n      <td>...</td>\n      <td>S</td>\n      <td>127.0</td>\n      <td>Futrelle, Mrs. Lily May (née Peel)</td>\n      <td>35.0</td>\n      <td>Scituate, Massachusetts, US</td>\n      <td>Southampton</td>\n      <td>Scituate, Massachusetts, US</td>\n      <td>D</td>\n      <td>NaN</td>\n      <td>1.0</td>\n    </tr>\n    <tr>\n      <th>4</th>\n      <td>5</td>\n      <td>0.0</td>\n      <td>3</td>\n      <td>Allen, Mr. William Henry</td>\n      <td>male</td>\n      <td>35.0</td>\n      <td>0</td>\n      <td>0</td>\n      <td>373450</td>\n      <td>8.0500</td>\n      <td>...</td>\n      <td>S</td>\n      <td>627.0</td>\n      <td>Allen, Mr. William Henry</td>\n      <td>35.0</td>\n      <td>Birmingham, West Midlands, England</td>\n      <td>Southampton</td>\n      <td>New York City</td>\n      <td>NaN</td>\n      <td>NaN</td>\n      <td>3.0</td>\n    </tr>\n  </tbody>\n</table>\n<p>5 rows × 21 columns</p>\n</div>",
      "text/plain": "   PassengerId  Survived  Pclass  \\\n0            1       0.0       3   \n1            2       1.0       1   \n2            3       1.0       3   \n3            4       1.0       1   \n4            5       0.0       3   \n\n                                                Name     Sex   Age  SibSp  \\\n0                            Braund, Mr. Owen Harris    male  22.0      1   \n1  Cumings, Mrs. John Bradley (Florence Briggs Th...  female  38.0      1   \n2                             Heikkinen, Miss. Laina  female  26.0      0   \n3       Futrelle, Mrs. Jacques Heath (Lily May Peel)  female  35.0      1   \n4                           Allen, Mr. William Henry    male  35.0      0   \n\n   Parch            Ticket     Fare  ... Embarked WikiId  \\\n0      0         A/5 21171   7.2500  ...        S  691.0   \n1      0          PC 17599  71.2833  ...        C   90.0   \n2      0  STON/O2. 3101282   7.9250  ...        S  865.0   \n3      0            113803  53.1000  ...        S  127.0   \n4      0            373450   8.0500  ...        S  627.0   \n\n                                    Name_wiki Age_wiki  \\\n0                     Braund, Mr. Owen Harris     22.0   \n1  Cumings, Mrs. Florence Briggs (née Thayer)     35.0   \n2                       Heikkinen, Miss Laina     26.0   \n3          Futrelle, Mrs. Lily May (née Peel)     35.0   \n4                    Allen, Mr. William Henry     35.0   \n\n                             Hometown      Boarded  \\\n0          Bridgerule, Devon, England  Southampton   \n1              New York, New York, US    Cherbourg   \n2                  Jyväskylä, Finland  Southampton   \n3         Scituate, Massachusetts, US  Southampton   \n4  Birmingham, West Midlands, England  Southampton   \n\n                               Destination Lifeboat Body Class  \n0  Qu'Appelle Valley, Saskatchewan, Canada      NaN  NaN   3.0  \n1                   New York, New York, US        4  NaN   1.0  \n2                            New York City      14?  NaN   3.0  \n3              Scituate, Massachusetts, US        D  NaN   1.0  \n4                            New York City      NaN  NaN   3.0  \n\n[5 rows x 21 columns]"
     },
     "execution_count": 18,
     "metadata": {},
     "output_type": "execute_result"
    }
   ],
   "source": [
    "df.head()"
   ]
  },
  {
   "cell_type": "code",
   "execution_count": 19,
   "metadata": {},
   "outputs": [
    {
     "data": {
      "text/html": "<div>\n<style scoped>\n    .dataframe tbody tr th:only-of-type {\n        vertical-align: middle;\n    }\n\n    .dataframe tbody tr th {\n        vertical-align: top;\n    }\n\n    .dataframe thead th {\n        text-align: right;\n    }\n</style>\n<table border=\"1\" class=\"dataframe\">\n  <thead>\n    <tr style=\"text-align: right;\">\n      <th></th>\n      <th>PassengerId</th>\n      <th>Survived</th>\n      <th>Pclass</th>\n      <th>Age</th>\n      <th>SibSp</th>\n      <th>Parch</th>\n      <th>Fare</th>\n      <th>WikiId</th>\n      <th>Age_wiki</th>\n      <th>Class</th>\n    </tr>\n  </thead>\n  <tbody>\n    <tr>\n      <th>count</th>\n      <td>1309.000000</td>\n      <td>891.000000</td>\n      <td>1309.000000</td>\n      <td>1046.000000</td>\n      <td>1309.000000</td>\n      <td>1309.000000</td>\n      <td>1308.000000</td>\n      <td>1304.000000</td>\n      <td>1302.000000</td>\n      <td>1304.000000</td>\n    </tr>\n    <tr>\n      <th>mean</th>\n      <td>655.000000</td>\n      <td>0.383838</td>\n      <td>2.294882</td>\n      <td>29.881138</td>\n      <td>0.498854</td>\n      <td>0.385027</td>\n      <td>33.295479</td>\n      <td>658.534509</td>\n      <td>29.415829</td>\n      <td>2.291411</td>\n    </tr>\n    <tr>\n      <th>std</th>\n      <td>378.020061</td>\n      <td>0.486592</td>\n      <td>0.837836</td>\n      <td>14.413493</td>\n      <td>1.041658</td>\n      <td>0.865560</td>\n      <td>51.758668</td>\n      <td>380.377373</td>\n      <td>13.758954</td>\n      <td>0.840852</td>\n    </tr>\n    <tr>\n      <th>min</th>\n      <td>1.000000</td>\n      <td>0.000000</td>\n      <td>1.000000</td>\n      <td>0.170000</td>\n      <td>0.000000</td>\n      <td>0.000000</td>\n      <td>0.000000</td>\n      <td>1.000000</td>\n      <td>0.170000</td>\n      <td>1.000000</td>\n    </tr>\n    <tr>\n      <th>25%</th>\n      <td>328.000000</td>\n      <td>0.000000</td>\n      <td>2.000000</td>\n      <td>21.000000</td>\n      <td>0.000000</td>\n      <td>0.000000</td>\n      <td>7.895800</td>\n      <td>326.750000</td>\n      <td>21.000000</td>\n      <td>1.750000</td>\n    </tr>\n    <tr>\n      <th>50%</th>\n      <td>655.000000</td>\n      <td>0.000000</td>\n      <td>3.000000</td>\n      <td>28.000000</td>\n      <td>0.000000</td>\n      <td>0.000000</td>\n      <td>14.454200</td>\n      <td>661.500000</td>\n      <td>28.000000</td>\n      <td>3.000000</td>\n    </tr>\n    <tr>\n      <th>75%</th>\n      <td>982.000000</td>\n      <td>1.000000</td>\n      <td>3.000000</td>\n      <td>39.000000</td>\n      <td>1.000000</td>\n      <td>0.000000</td>\n      <td>31.275000</td>\n      <td>987.250000</td>\n      <td>37.750000</td>\n      <td>3.000000</td>\n    </tr>\n    <tr>\n      <th>max</th>\n      <td>1309.000000</td>\n      <td>1.000000</td>\n      <td>3.000000</td>\n      <td>80.000000</td>\n      <td>8.000000</td>\n      <td>9.000000</td>\n      <td>512.329200</td>\n      <td>1314.000000</td>\n      <td>74.000000</td>\n      <td>3.000000</td>\n    </tr>\n  </tbody>\n</table>\n</div>",
      "text/plain": "       PassengerId    Survived       Pclass          Age        SibSp  \\\ncount  1309.000000  891.000000  1309.000000  1046.000000  1309.000000   \nmean    655.000000    0.383838     2.294882    29.881138     0.498854   \nstd     378.020061    0.486592     0.837836    14.413493     1.041658   \nmin       1.000000    0.000000     1.000000     0.170000     0.000000   \n25%     328.000000    0.000000     2.000000    21.000000     0.000000   \n50%     655.000000    0.000000     3.000000    28.000000     0.000000   \n75%     982.000000    1.000000     3.000000    39.000000     1.000000   \nmax    1309.000000    1.000000     3.000000    80.000000     8.000000   \n\n             Parch         Fare       WikiId     Age_wiki        Class  \ncount  1309.000000  1308.000000  1304.000000  1302.000000  1304.000000  \nmean      0.385027    33.295479   658.534509    29.415829     2.291411  \nstd       0.865560    51.758668   380.377373    13.758954     0.840852  \nmin       0.000000     0.000000     1.000000     0.170000     1.000000  \n25%       0.000000     7.895800   326.750000    21.000000     1.750000  \n50%       0.000000    14.454200   661.500000    28.000000     3.000000  \n75%       0.000000    31.275000   987.250000    37.750000     3.000000  \nmax       9.000000   512.329200  1314.000000    74.000000     3.000000  "
     },
     "execution_count": 19,
     "metadata": {},
     "output_type": "execute_result"
    }
   ],
   "source": [
    "df.describe()"
   ]
  },
  {
   "cell_type": "code",
   "execution_count": 52,
   "metadata": {},
   "outputs": [
    {
     "name": "stdout",
     "output_type": "stream",
     "text": "<class 'pandas.core.frame.DataFrame'>\nRangeIndex: 1309 entries, 0 to 1308\nData columns (total 21 columns):\n #   Column       Non-Null Count  Dtype  \n---  ------       --------------  -----  \n 0   PassengerId  1309 non-null   int64  \n 1   Survived     891 non-null    float64\n 2   Pclass       1309 non-null   int64  \n 3   Name         1309 non-null   object \n 4   Sex          1309 non-null   object \n 5   Age          1046 non-null   float64\n 6   SibSp        1309 non-null   int64  \n 7   Parch        1309 non-null   int64  \n 8   Ticket       1309 non-null   object \n 9   Fare         1308 non-null   float64\n 10  Cabin        295 non-null    object \n 11  Embarked     1307 non-null   object \n 12  WikiId       1304 non-null   float64\n 13  Name_wiki    1304 non-null   object \n 14  Age_wiki     1302 non-null   float64\n 15  Hometown     1304 non-null   object \n 16  Boarded      1304 non-null   object \n 17  Destination  1304 non-null   object \n 18  Lifeboat     502 non-null    object \n 19  Body         130 non-null    object \n 20  Class        1304 non-null   float64\ndtypes: float64(6), int64(4), object(11)\nmemory usage: 214.9+ KB\n"
    }
   ],
   "source": [
    "df.info()"
   ]
  },
  {
   "cell_type": "code",
   "execution_count": 63,
   "metadata": {},
   "outputs": [],
   "source": [
    "df1 = df.drop(['Cabin','Body'], axis=1)"
   ]
  },
  {
   "cell_type": "code",
   "execution_count": 66,
   "metadata": {},
   "outputs": [
    {
     "name": "stdout",
     "output_type": "stream",
     "text": "<class 'pandas.core.frame.DataFrame'>\nRangeIndex: 1309 entries, 0 to 1308\nData columns (total 19 columns):\n #   Column       Non-Null Count  Dtype  \n---  ------       --------------  -----  \n 0   PassengerId  1309 non-null   int64  \n 1   Survived     891 non-null    float64\n 2   Pclass       1309 non-null   int64  \n 3   Name         1309 non-null   object \n 4   Sex          1309 non-null   object \n 5   Age          1046 non-null   float64\n 6   SibSp        1309 non-null   int64  \n 7   Parch        1309 non-null   int64  \n 8   Ticket       1309 non-null   object \n 9   Fare         1308 non-null   float64\n 10  Embarked     1307 non-null   object \n 11  WikiId       1304 non-null   float64\n 12  Name_wiki    1304 non-null   object \n 13  Age_wiki     1302 non-null   float64\n 14  Hometown     1304 non-null   object \n 15  Boarded      1304 non-null   object \n 16  Destination  1304 non-null   object \n 17  Lifeboat     502 non-null    object \n 18  Class        1304 non-null   float64\ndtypes: float64(6), int64(4), object(9)\nmemory usage: 194.4+ KB\n"
    }
   ],
   "source": [
    "df1.info()"
   ]
  },
  {
   "cell_type": "markdown",
   "metadata": {},
   "source": [
    "Similar ao SELECT de SQL"
   ]
  },
  {
   "cell_type": "code",
   "execution_count": 86,
   "metadata": {},
   "outputs": [
    {
     "data": {
      "text/html": "<div>\n<style scoped>\n    .dataframe tbody tr th:only-of-type {\n        vertical-align: middle;\n    }\n\n    .dataframe tbody tr th {\n        vertical-align: top;\n    }\n\n    .dataframe thead th {\n        text-align: right;\n    }\n</style>\n<table border=\"1\" class=\"dataframe\">\n  <thead>\n    <tr style=\"text-align: right;\">\n      <th></th>\n      <th>Name</th>\n      <th>Survived</th>\n      <th>Lifeboat</th>\n    </tr>\n  </thead>\n  <tbody>\n    <tr>\n      <th>0</th>\n      <td>Braund, Mr. Owen Harris</td>\n      <td>0.0</td>\n      <td>NaN</td>\n    </tr>\n    <tr>\n      <th>1</th>\n      <td>Cumings, Mrs. John Bradley (Florence Briggs Th...</td>\n      <td>1.0</td>\n      <td>4</td>\n    </tr>\n    <tr>\n      <th>2</th>\n      <td>Heikkinen, Miss. Laina</td>\n      <td>1.0</td>\n      <td>14?</td>\n    </tr>\n    <tr>\n      <th>3</th>\n      <td>Futrelle, Mrs. Jacques Heath (Lily May Peel)</td>\n      <td>1.0</td>\n      <td>D</td>\n    </tr>\n    <tr>\n      <th>4</th>\n      <td>Allen, Mr. William Henry</td>\n      <td>0.0</td>\n      <td>NaN</td>\n    </tr>\n    <tr>\n      <th>...</th>\n      <td>...</td>\n      <td>...</td>\n      <td>...</td>\n    </tr>\n    <tr>\n      <th>1304</th>\n      <td>Spector, Mr. Woolf</td>\n      <td>NaN</td>\n      <td>NaN</td>\n    </tr>\n    <tr>\n      <th>1305</th>\n      <td>Oliva y Ocana, Dona. Fermina</td>\n      <td>NaN</td>\n      <td>8</td>\n    </tr>\n    <tr>\n      <th>1306</th>\n      <td>Saether, Mr. Simon Sivertsen</td>\n      <td>NaN</td>\n      <td>NaN</td>\n    </tr>\n    <tr>\n      <th>1307</th>\n      <td>Ware, Mr. Frederick</td>\n      <td>NaN</td>\n      <td>NaN</td>\n    </tr>\n    <tr>\n      <th>1308</th>\n      <td>Peter, Master. Michael J</td>\n      <td>NaN</td>\n      <td>D</td>\n    </tr>\n  </tbody>\n</table>\n<p>1309 rows × 3 columns</p>\n</div>",
      "text/plain": "                                                   Name  Survived Lifeboat\n0                               Braund, Mr. Owen Harris       0.0      NaN\n1     Cumings, Mrs. John Bradley (Florence Briggs Th...       1.0        4\n2                                Heikkinen, Miss. Laina       1.0      14?\n3          Futrelle, Mrs. Jacques Heath (Lily May Peel)       1.0        D\n4                              Allen, Mr. William Henry       0.0      NaN\n...                                                 ...       ...      ...\n1304                                 Spector, Mr. Woolf       NaN      NaN\n1305                       Oliva y Ocana, Dona. Fermina       NaN        8\n1306                       Saether, Mr. Simon Sivertsen       NaN      NaN\n1307                                Ware, Mr. Frederick       NaN      NaN\n1308                           Peter, Master. Michael J       NaN        D\n\n[1309 rows x 3 columns]"
     },
     "execution_count": 86,
     "metadata": {},
     "output_type": "execute_result"
    }
   ],
   "source": [
    "df2 = df1.filter(['Name','Survived','Lifeboat'])\n",
    "df2"
   ]
  },
  {
   "cell_type": "code",
   "execution_count": 87,
   "metadata": {},
   "outputs": [
    {
     "name": "stdout",
     "output_type": "stream",
     "text": "<class 'pandas.core.frame.DataFrame'>\nRangeIndex: 1309 entries, 0 to 1308\nData columns (total 3 columns):\n #   Column    Non-Null Count  Dtype  \n---  ------    --------------  -----  \n 0   Name      1309 non-null   object \n 1   Survived  891 non-null    float64\n 2   Lifeboat  502 non-null    object \ndtypes: float64(1), object(2)\nmemory usage: 30.8+ KB\n"
    }
   ],
   "source": [
    "df2.info()"
   ]
  },
  {
   "cell_type": "markdown",
   "metadata": {},
   "source": [
    "## Agora graficos !!"
   ]
  },
  {
   "cell_type": "code",
   "execution_count": null,
   "metadata": {},
   "outputs": [],
   "source": [
    "sns.set_style('darkgrid')\n",
    "sns.relplot(x='Age', y='Fare', hue='Survived', style='Survived', data=df)"
   ]
  },
  {
   "cell_type": "markdown",
   "metadata": {},
   "source": [
    "Regressao linear do grafico acima"
   ]
  },
  {
   "cell_type": "code",
   "execution_count": null,
   "metadata": {},
   "outputs": [],
   "source": [
    "sns.regplot(x='Age', y='Fare', data=df)   # nao sei exatamente o que fazer com isso mas pelo menos ja sei que da pra fazer"
   ]
  },
  {
   "cell_type": "markdown",
   "metadata": {},
   "source": [
    "MAIS GRAFICOS"
   ]
  },
  {
   "cell_type": "code",
   "execution_count": null,
   "metadata": {},
   "outputs": [],
   "source": [
    "sns.catplot(x='Boarded', y='Age', hue='Survived', data=df)"
   ]
  }
 ],
 "metadata": {
  "kernelspec": {
   "display_name": "Python 3.7.5 64-bit ('venv': venv)",
   "language": "python",
   "name": "python37564bitvenvvenva61e7cf1925d4822b9c361205110a681"
  },
  "language_info": {
   "codemirror_mode": {
    "name": "ipython",
    "version": 3
   },
   "file_extension": ".py",
   "mimetype": "text/x-python",
   "name": "python",
   "nbconvert_exporter": "python",
   "pygments_lexer": "ipython3",
   "version": "3.7.5-final"
  }
 },
 "nbformat": 4,
 "nbformat_minor": 4
}